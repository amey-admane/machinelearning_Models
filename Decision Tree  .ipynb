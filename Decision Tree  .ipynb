{
 "cells": [
  {
   "cell_type": "markdown",
   "metadata": {
    "id": "CthdB-9-kBgd"
   },
   "source": [
    "# Decision Tree "
   ]
  },
  {
   "cell_type": "code",
   "execution_count": 1,
   "metadata": {
    "executionInfo": {
     "elapsed": 766,
     "status": "ok",
     "timestamp": 1641527873971,
     "user": {
      "displayName": "AMEY ADMANE",
      "photoUrl": "https://lh3.googleusercontent.com/a-/AOh14Gj8aw2MEa0Caa6T674fmmIyUtHGVqzUaCepQL1p=s64",
      "userId": "09341422648100494861"
     },
     "user_tz": -330
    },
    "id": "r3Pn83kVlcoU"
   },
   "outputs": [],
   "source": [
    "# importing dependiences\n",
    "import numpy as np \n",
    "import pandas as pd\n",
    "import seaborn as sb\n",
    "import matplotlib as mp\n",
    "import matplotlib.pyplot as plt\n",
    "from sklearn import metrics \n",
    "from sklearn.tree import DecisionTreeClassifier\n",
    "from sklearn.model_selection import train_test_split"
   ]
  },
  {
   "cell_type": "markdown",
   "metadata": {},
   "source": [
    "# Reading Data"
   ]
  },
  {
   "cell_type": "code",
   "execution_count": 2,
   "metadata": {
    "colab": {
     "base_uri": "https://localhost:8080/"
    },
    "executionInfo": {
     "elapsed": 22,
     "status": "ok",
     "timestamp": 1641527874424,
     "user": {
      "displayName": "AMEY ADMANE",
      "photoUrl": "https://lh3.googleusercontent.com/a-/AOh14Gj8aw2MEa0Caa6T674fmmIyUtHGVqzUaCepQL1p=s64",
      "userId": "09341422648100494861"
     },
     "user_tz": -330
    },
    "id": "L8IGxAbXova3",
    "outputId": "9fef0f7d-0f2b-4e74-d97e-e99c35c54130"
   },
   "outputs": [],
   "source": [
    "df = pd.read_csv(\"voice.csv\")"
   ]
  },
  {
   "cell_type": "markdown",
   "metadata": {},
   "source": [
    "# Converting Categorical Values into Numerical Values"
   ]
  },
  {
   "cell_type": "code",
   "execution_count": 3,
   "metadata": {
    "colab": {
     "base_uri": "https://localhost:8080/"
    },
    "executionInfo": {
     "elapsed": 17,
     "status": "ok",
     "timestamp": 1641527874426,
     "user": {
      "displayName": "AMEY ADMANE",
      "photoUrl": "https://lh3.googleusercontent.com/a-/AOh14Gj8aw2MEa0Caa6T674fmmIyUtHGVqzUaCepQL1p=s64",
      "userId": "09341422648100494861"
     },
     "user_tz": -330
    },
    "id": "IP4asQSAq27s",
    "outputId": "9b3d9157-8417-4510-8511-fa8e59e9ed72"
   },
   "outputs": [
    {
     "data": {
      "text/plain": [
       "1    1584\n",
       "0    1584\n",
       "Name: label, dtype: int64"
      ]
     },
     "execution_count": 3,
     "metadata": {},
     "output_type": "execute_result"
    }
   ],
   "source": [
    "df['label'] = [1 if i=='male' else 0 for i in df.label]\n",
    "df.label.value_counts()"
   ]
  },
  {
   "cell_type": "code",
   "execution_count": 4,
   "metadata": {
    "executionInfo": {
     "elapsed": 11,
     "status": "ok",
     "timestamp": 1641527874428,
     "user": {
      "displayName": "AMEY ADMANE",
      "photoUrl": "https://lh3.googleusercontent.com/a-/AOh14Gj8aw2MEa0Caa6T674fmmIyUtHGVqzUaCepQL1p=s64",
      "userId": "09341422648100494861"
     },
     "user_tz": -330
    },
    "id": "ofuoPxwWsBxm"
   },
   "outputs": [],
   "source": [
    "x = df.drop(['label'],axis=1)\n",
    "y = df.label.values"
   ]
  },
  {
   "cell_type": "markdown",
   "metadata": {},
   "source": [
    "# Splitting Dataset into Training and Testing Set¶"
   ]
  },
  {
   "cell_type": "code",
   "execution_count": 5,
   "metadata": {
    "executionInfo": {
     "elapsed": 10,
     "status": "ok",
     "timestamp": 1641527874428,
     "user": {
      "displayName": "AMEY ADMANE",
      "photoUrl": "https://lh3.googleusercontent.com/a-/AOh14Gj8aw2MEa0Caa6T674fmmIyUtHGVqzUaCepQL1p=s64",
      "userId": "09341422648100494861"
     },
     "user_tz": -330
    },
    "id": "mq9sFi_SoNmZ"
   },
   "outputs": [],
   "source": [
    "from sklearn.model_selection import train_test_split\n",
    "x_train,x_test,y_train,y_test = train_test_split(x,y,test_size = 0.2,random_state = 50)"
   ]
  },
  {
   "cell_type": "markdown",
   "metadata": {},
   "source": [
    "# Decision Tree Using Entropy"
   ]
  },
  {
   "cell_type": "code",
   "execution_count": 6,
   "metadata": {
    "colab": {
     "base_uri": "https://localhost:8080/"
    },
    "executionInfo": {
     "elapsed": 459,
     "status": "ok",
     "timestamp": 1641527874877,
     "user": {
      "displayName": "AMEY ADMANE",
      "photoUrl": "https://lh3.googleusercontent.com/a-/AOh14Gj8aw2MEa0Caa6T674fmmIyUtHGVqzUaCepQL1p=s64",
      "userId": "09341422648100494861"
     },
     "user_tz": -330
    },
    "id": "B_-WQfP3uerf",
    "outputId": "f1ce53a2-0081-458c-fcb6-f79f64e9b405"
   },
   "outputs": [
    {
     "name": "stdout",
     "output_type": "stream",
     "text": [
      "Decision Tree Classification Score:  0.9511041009463722\n",
      "Score on training dataset : 0.9865824782951855\n",
      "Score on testing dataset : 0.9511041009463722\n",
      "Out of total 634 samples 603 samples were predicted correctly\n"
     ]
    }
   ],
   "source": [
    "# Implementing entropy\n",
    "classifier= DecisionTreeClassifier(criterion='entropy',random_state = 30,max_depth=10, min_samples_leaf=8)  \n",
    "classifier.fit(x_train, y_train)  \n",
    "print(\"Decision Tree Classification Score: \",classifier.score(x_test,y_test))\n",
    "predications = classifier.predict(x_test)\n",
    "print (\"Score on training dataset :\",classifier.score(x_train,y_train))\n",
    "print(\"Score on testing dataset :\",classifier.score(x_test, y_test))\n",
    "# using metrics module for accuracy calculation\n",
    "print(\"Out of total 634 samples \"+str(metrics.accuracy_score(y_test, predications,normalize = False))+\" samples were predicted correctly\")"
   ]
  },
  {
   "cell_type": "code",
   "execution_count": 7,
   "metadata": {},
   "outputs": [
    {
     "name": "stdout",
     "output_type": "stream",
     "text": [
      "              precision    recall  f1-score   support\n",
      "\n",
      "           0       0.95      0.96      0.95       324\n",
      "           1       0.95      0.95      0.95       310\n",
      "\n",
      "    accuracy                           0.95       634\n",
      "   macro avg       0.95      0.95      0.95       634\n",
      "weighted avg       0.95      0.95      0.95       634\n",
      "\n"
     ]
    }
   ],
   "source": [
    "from sklearn.metrics import classification_report\n",
    "report = classification_report(y_test,predications)\n",
    "print(report)"
   ]
  },
  {
   "cell_type": "markdown",
   "metadata": {},
   "source": [
    "# Confusion Matrix"
   ]
  },
  {
   "cell_type": "code",
   "execution_count": 8,
   "metadata": {},
   "outputs": [
    {
     "data": {
      "image/png": "[encoded data removed]",
      "text/plain": [
       "<Figure size 432x288 with 2 Axes>"
      ]
     },
     "metadata": {
      "needs_background": "light"
     },
     "output_type": "display_data"
    }
   ],
   "source": [
    "from sklearn.metrics import confusion_matrix\n",
    "conf_matrix = confusion_matrix(y_test,predications)\n",
    "sb.heatmap(conf_matrix,annot=True,fmt=\".0f\")\n",
    "plt.ylabel(\"Actual\")\n",
    "plt.xlabel(\"Predicted\")\n",
    "plt.title(\"Random Forest Confusion Matrix\")\n",
    "plt.show()"
   ]
  },
  {
   "cell_type": "markdown",
   "metadata": {},
   "source": [
    "# Decision Tree Using Gini"
   ]
  },
  {
   "cell_type": "code",
   "execution_count": 9,
   "metadata": {
    "colab": {
     "base_uri": "https://localhost:8080/"
    },
    "executionInfo": {
     "elapsed": 9,
     "status": "ok",
     "timestamp": 1641527874878,
     "user": {
      "displayName": "AMEY ADMANE",
      "photoUrl": "https://lh3.googleusercontent.com/a-/AOh14Gj8aw2MEa0Caa6T674fmmIyUtHGVqzUaCepQL1p=s64",
      "userId": "09341422648100494861"
     },
     "user_tz": -330
    },
    "id": "BiUo7Ag5vj9l",
    "outputId": "724ae87d-cc76-4bcc-fa8a-b58941ffd8b1"
   },
   "outputs": [
    {
     "name": "stdout",
     "output_type": "stream",
     "text": [
      "Decision Tree Classification Score:  0.9511041009463722\n",
      "Score on training dataset : 0.9865824782951855\n",
      "Score on testing dataset : 0.9511041009463722\n",
      "Out of total 634 samples 603 samples were predicted correctly\n"
     ]
    }
   ],
   "source": [
    "# Implementing gini\n",
    "clf_gini = DecisionTreeClassifier(criterion = \"gini\",random_state = 30,max_depth=10, min_samples_leaf=8)\n",
    "clf_gini.fit(x_train, y_train) \n",
    "print(\"Decision Tree Classification Score: \",classifier.score(x_test,y_test))\n",
    "predications = classifier.predict(x_test)\n",
    "print (\"Score on training dataset :\",classifier.score(x_train,y_train))\n",
    "print(\"Score on testing dataset :\",classifier.score(x_test, y_test))\n",
    "# using metrics module for accuracy calculation\n",
    "print(\"Out of total 634 samples \"+str(metrics.accuracy_score(y_test, predications,normalize = False))+\" samples were predicted correctly\")"
   ]
  },
  {
   "cell_type": "code",
   "execution_count": 10,
   "metadata": {},
   "outputs": [
    {
     "name": "stdout",
     "output_type": "stream",
     "text": [
      "              precision    recall  f1-score   support\n",
      "\n",
      "           0       0.95      0.96      0.95       324\n",
      "           1       0.95      0.95      0.95       310\n",
      "\n",
      "    accuracy                           0.95       634\n",
      "   macro avg       0.95      0.95      0.95       634\n",
      "weighted avg       0.95      0.95      0.95       634\n",
      "\n"
     ]
    }
   ],
   "source": [
    "from sklearn.metrics import classification_report\n",
    "report = classification_report(y_test,predications)\n",
    "print(report)"
   ]
  },
  {
   "cell_type": "markdown",
   "metadata": {},
   "source": [
    "# Confusion Matrix"
   ]
  },
  {
   "cell_type": "code",
   "execution_count": 11,
   "metadata": {},
   "outputs": [
    {
     "data": {
      "image/png": "[encoded data removed]",
      "text/plain": [
       "<Figure size 432x288 with 2 Axes>"
      ]
     },
     "metadata": {
      "needs_background": "light"
     },
     "output_type": "display_data"
    }
   ],
   "source": [
    "from sklearn.metrics import confusion_matrix\n",
    "conf_matrix = confusion_matrix(y_test,predications)\n",
    "sb.heatmap(conf_matrix,annot=True,fmt=\".0f\")\n",
    "plt.ylabel(\"Actual\")\n",
    "plt.xlabel(\"Predicted\")\n",
    "plt.title(\"Random Forest Confusion Matrix\")\n",
    "plt.show()"
   ]
  },
  {
   "cell_type": "code",
   "execution_count": 15,
   "metadata": {},
   "outputs": [
    {
     "name": "stdout",
     "output_type": "stream",
     "text": [
      "Score on training dataset : 0.9850039463299132\n",
      "Score on testing dataset : 0.9542586750788643\n",
      "Out of total 634 samples 605 samples were predicted correctly\n"
     ]
    }
   ],
   "source": [
    "classifier= DecisionTreeClassifier(criterion='entropy', random_state = 30,max_depth=5, min_samples_leaf=4)  \n",
    "classifier.fit(x_train, y_train)  \n",
    "predications = classifier.predict(x_test)\n",
    "print (\"Score on training dataset :\",classifier.score(x_train,y_train))\n",
    "print(\"Score on testing dataset :\",classifier.score(x_test, y_test))\n",
    "# using metrics module for accuracy calculation\n",
    "print(\"Out of total 634 samples \"+str(metrics.accuracy_score(y_test, predications,normalize = False))+\" samples were predicted correctly\")"
   ]
  },
  {
   "cell_type": "code",
   "execution_count": 16,
   "metadata": {},
   "outputs": [
    {
     "name": "stdout",
     "output_type": "stream",
     "text": [
      "Score on training dataset : 0.9850039463299132\n",
      "Score on testing dataset : 0.9542586750788643\n",
      "Out of total 634 samples 605 samples were predicted correctly\n"
     ]
    }
   ],
   "source": [
    "clf_gini = DecisionTreeClassifier(criterion = \"gini\",random_state = 30,max_depth=5, min_samples_leaf=4)\n",
    "clf_gini.fit(x_train, y_train) \n",
    "print (\"Score on training dataset :\",classifier.score(x_train,y_train))\n",
    "print(\"Score on testing dataset :\",classifier.score(x_test, y_test))\n",
    "# using metrics module for accuracy calculation\n",
    "print(\"Out of total 634 samples \"+str(metrics.accuracy_score(y_test, predications,normalize = False))+\" samples were predicted correctly\")"
   ]
  },
  {
   "cell_type": "markdown",
   "metadata": {},
   "source": [
    "# Important Features"
   ]
  },
  {
   "cell_type": "code",
   "execution_count": 17,
   "metadata": {},
   "outputs": [
    {
     "data": {
      "text/plain": [
       "<matplotlib.axes._subplots.AxesSubplot at 0x1de4f9d0e50>"
      ]
     },
     "execution_count": 17,
     "metadata": {},
     "output_type": "execute_result"
    },
    {
     "data": {
      "image/png": "[encoded data removed]",
      "text/plain": [
       "<Figure size 720x216 with 1 Axes>"
      ]
     },
     "metadata": {
      "needs_background": "light"
     },
     "output_type": "display_data"
    }
   ],
   "source": [
    "imp = classifier.feature_importances_\n",
    "data = pd.DataFrame({\"Features\": x_train.columns,\"imp\":imp})\n",
    "data.set_index(\"imp\")\n",
    "data = data.sort_values(\"imp\")\n",
    "plt.figure(figsize=(10,3))\n",
    "plt.xticks(rotation=45)\n",
    "sb.barplot(x=\"Features\",y=\"imp\",data=data)"
   ]
  },
  {
   "cell_type": "markdown",
   "metadata": {},
   "source": [
    "# GridSearchCV"
   ]
  },
  {
   "cell_type": "code",
   "execution_count": 59,
   "metadata": {},
   "outputs": [
    {
     "name": "stdout",
     "output_type": "stream",
     "text": [
      "Fitting 3 folds for each of 294 candidates, totalling 882 fits\n"
     ]
    },
    {
     "name": "stderr",
     "output_type": "stream",
     "text": [
      "[Parallel(n_jobs=1)]: Using backend SequentialBackend with 1 concurrent workers.\n",
      "[Parallel(n_jobs=1)]: Done 882 out of 882 | elapsed:   33.6s finished\n"
     ]
    },
    {
     "data": {
      "text/plain": [
       "GridSearchCV(cv=3, estimator=DecisionTreeClassifier(random_state=42),\n",
       "             param_grid={'max_leaf_nodes': [2, 3, 4, 5, 6, 7, 8, 9, 10, 11, 12,\n",
       "                                            13, 14, 15, 16, 17, 18, 19, 20, 21,\n",
       "                                            22, 23, 24, 25, 26, 27, 28, 29, 30,\n",
       "                                            31, ...],\n",
       "                         'min_samples_split': [2, 3, 4]},\n",
       "             verbose=1)"
      ]
     },
     "execution_count": 59,
     "metadata": {},
     "output_type": "execute_result"
    }
   ],
   "source": [
    "from sklearn.tree import DecisionTreeClassifier\n",
    "from sklearn.model_selection import GridSearchCV\n",
    "params = {'max_leaf_nodes': list(range(2, 100)), 'min_samples_split': [2, 3, 4]}\n",
    "grid_search_cv = GridSearchCV(DecisionTreeClassifier(random_state=42), params, verbose=1, cv=3)\n",
    "grid_search_cv.fit(x_train, y_train)"
   ]
  },
  {
   "cell_type": "code",
   "execution_count": 60,
   "metadata": {},
   "outputs": [
    {
     "data": {
      "text/plain": [
       "DecisionTreeClassifier(max_leaf_nodes=18, random_state=42)"
      ]
     },
     "execution_count": 60,
     "metadata": {},
     "output_type": "execute_result"
    }
   ],
   "source": [
    "grid_search_cv.best_estimator_"
   ]
  },
  {
   "cell_type": "code",
   "execution_count": 18,
   "metadata": {},
   "outputs": [
    {
     "name": "stdout",
     "output_type": "stream",
     "text": [
      "Score on training dataset : 0.9830307813733228\n",
      "Score on testing dataset : 0.9558359621451105\n",
      "Out of total 634 samples 606 samples were predicted correctly\n"
     ]
    }
   ],
   "source": [
    "classifier= DecisionTreeClassifier(criterion='entropy', random_state = 42, max_leaf_nodes=18)  \n",
    "classifier.fit(x_train, y_train)  \n",
    "predications = classifier.predict(x_test)\n",
    "print (\"Score on training dataset :\",classifier.score(x_train,y_train))\n",
    "print(\"Score on testing dataset :\",classifier.score(x_test, y_test))\n",
    "# using metrics module for accuracy calculation\n",
    "print(\"Out of total 634 samples \"+str(metrics.accuracy_score(y_test, predications,normalize = False))+\" samples were predicted correctly\")"
   ]
  },
  {
   "cell_type": "markdown",
   "metadata": {},
   "source": [
    "# ROC Curve"
   ]
  },
  {
   "cell_type": "code",
   "execution_count": 20,
   "metadata": {},
   "outputs": [
    {
     "data": {
      "image/png": "[encoded data removed]",
      "text/plain": [
       "<Figure size 432x288 with 1 Axes>"
      ]
     },
     "metadata": {
      "needs_background": "light"
     },
     "output_type": "display_data"
    },
    {
     "name": "stdout",
     "output_type": "stream",
     "text": [
      "Area Under ROC Curve: 0.9553962564715254\n"
     ]
    }
   ],
   "source": [
    "from sklearn.metrics import roc_curve, auc\n",
    "fpr1, tpr1, thresholds = metrics.roc_curve(y_test, predications, pos_label=0)\n",
    "plt.ylabel(\"True Positive Rate\")\n",
    "plt.xlabel(\"False Positive Rate\")\n",
    "plt.title(\"ROC Curve\")\n",
    "plt.plot(tpr1,fpr1)\n",
    "plt.show()\n",
    "auc = np.trapz(fpr1,tpr1)\n",
    "print(\"Area Under ROC Curve:\", auc)"
   ]
  },
  {
   "cell_type": "markdown",
   "metadata": {},
   "source": [
    "# Recursive Feature Elimination"
   ]
  },
  {
   "cell_type": "code",
   "execution_count": 21,
   "metadata": {},
   "outputs": [],
   "source": [
    "from sklearn.feature_selection import RFE\n",
    "rfe = RFE(estimator = classifier,step=1)\n",
    "rfe.fit(x_train,y_train)\n",
    "x_train_selected = rfe.transform(x_train)\n",
    "x_test_selected = rfe.transform(x_test)"
   ]
  },
  {
   "cell_type": "code",
   "execution_count": 22,
   "metadata": {},
   "outputs": [
    {
     "data": {
      "text/html": [
       "<div>\n",
       "<style scoped>\n",
       "    .dataframe tbody tr th:only-of-type {\n",
       "        vertical-align: middle;\n",
       "    }\n",
       "\n",
       "    .dataframe tbody tr th {\n",
       "        vertical-align: top;\n",
       "    }\n",
       "\n",
       "    .dataframe thead th {\n",
       "        text-align: right;\n",
       "    }\n",
       "</style>\n",
       "<table border=\"1\" class=\"dataframe\">\n",
       "  <thead>\n",
       "    <tr style=\"text-align: right;\">\n",
       "      <th></th>\n",
       "      <th>Feature</th>\n",
       "      <th>Ranking</th>\n",
       "    </tr>\n",
       "  </thead>\n",
       "  <tbody>\n",
       "    <tr>\n",
       "      <th>2</th>\n",
       "      <td>Q75</td>\n",
       "      <td>1</td>\n",
       "    </tr>\n",
       "    <tr>\n",
       "      <th>3</th>\n",
       "      <td>IQR</td>\n",
       "      <td>1</td>\n",
       "    </tr>\n",
       "    <tr>\n",
       "      <th>6</th>\n",
       "      <td>sfm</td>\n",
       "      <td>1</td>\n",
       "    </tr>\n",
       "    <tr>\n",
       "      <th>7</th>\n",
       "      <td>mode</td>\n",
       "      <td>1</td>\n",
       "    </tr>\n",
       "    <tr>\n",
       "      <th>8</th>\n",
       "      <td>meanfun</td>\n",
       "      <td>1</td>\n",
       "    </tr>\n",
       "    <tr>\n",
       "      <th>9</th>\n",
       "      <td>minfun</td>\n",
       "      <td>1</td>\n",
       "    </tr>\n",
       "    <tr>\n",
       "      <th>13</th>\n",
       "      <td>maxdom</td>\n",
       "      <td>1</td>\n",
       "    </tr>\n",
       "    <tr>\n",
       "      <th>14</th>\n",
       "      <td>modindx</td>\n",
       "      <td>2</td>\n",
       "    </tr>\n",
       "    <tr>\n",
       "      <th>11</th>\n",
       "      <td>meandom</td>\n",
       "      <td>3</td>\n",
       "    </tr>\n",
       "    <tr>\n",
       "      <th>12</th>\n",
       "      <td>mindom</td>\n",
       "      <td>4</td>\n",
       "    </tr>\n",
       "    <tr>\n",
       "      <th>10</th>\n",
       "      <td>maxfun</td>\n",
       "      <td>5</td>\n",
       "    </tr>\n",
       "    <tr>\n",
       "      <th>5</th>\n",
       "      <td>sp.ent</td>\n",
       "      <td>6</td>\n",
       "    </tr>\n",
       "    <tr>\n",
       "      <th>4</th>\n",
       "      <td>skew</td>\n",
       "      <td>7</td>\n",
       "    </tr>\n",
       "    <tr>\n",
       "      <th>0</th>\n",
       "      <td>meanfreq</td>\n",
       "      <td>8</td>\n",
       "    </tr>\n",
       "    <tr>\n",
       "      <th>1</th>\n",
       "      <td>sd</td>\n",
       "      <td>9</td>\n",
       "    </tr>\n",
       "  </tbody>\n",
       "</table>\n",
       "</div>"
      ],
      "text/plain": [
       "     Feature  Ranking\n",
       "2        Q75        1\n",
       "3        IQR        1\n",
       "6        sfm        1\n",
       "7       mode        1\n",
       "8    meanfun        1\n",
       "9     minfun        1\n",
       "13    maxdom        1\n",
       "14   modindx        2\n",
       "11   meandom        3\n",
       "12    mindom        4\n",
       "10    maxfun        5\n",
       "5     sp.ent        6\n",
       "4       skew        7\n",
       "0   meanfreq        8\n",
       "1         sd        9"
      ]
     },
     "execution_count": 22,
     "metadata": {},
     "output_type": "execute_result"
    }
   ],
   "source": [
    "selected_features = pd.DataFrame({'Feature':list(x_train.columns),\n",
    "                         'Ranking':rfe.ranking_})\n",
    "selected_features.sort_values(by = 'Ranking')"
   ]
  },
  {
   "cell_type": "code",
   "execution_count": 24,
   "metadata": {},
   "outputs": [
    {
     "name": "stdout",
     "output_type": "stream",
     "text": [
      "Scores After Recursive Feature Elimination : 0.9542586750788643\n",
      "Scores : 0.9558359621451105\n"
     ]
    }
   ],
   "source": [
    "classifier.fit(x_train_selected,y_train)\n",
    "print(\"Scores After Recursive Feature Elimination :\",format(classifier.score(x_test_selected,y_test)))\n",
    "classifier.fit(x_train,y_train)\n",
    "print(\"Scores :\",format(classifier.score(x_test,y_test)))"
   ]
  },
  {
   "cell_type": "code",
   "execution_count": null,
   "metadata": {},
   "outputs": [],
   "source": []
  }
 ],
 "metadata": {
  "colab": {
   "authorship_tag": "ABX9TyOQKYA81RwrDT0QOh80Psb0",
   "name": "Decision Tree .ipynb",
   "provenance": []
  },
  "kernelspec": {
   "display_name": "Python 3",
   "language": "python",
   "name": "python3"
  },
  "language_info": {
   "codemirror_mode": {
    "name": "ipython",
    "version": 3
   },
   "file_extension": ".py",
   "mimetype": "text/x-python",
   "name": "python",
   "nbconvert_exporter": "python",
   "pygments_lexer": "ipython3",
   "version": "3.8.3"
  }
 },
 "nbformat": 4,
 "nbformat_minor": 1
}

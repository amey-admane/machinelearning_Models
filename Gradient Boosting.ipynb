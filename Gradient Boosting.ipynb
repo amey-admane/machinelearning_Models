{
 "cells": [
  {
   "cell_type": "markdown",
   "metadata": {},
   "source": [
    "# Importing libraries"
   ]
  },
  {
   "cell_type": "code",
   "execution_count": 1,
   "metadata": {},
   "outputs": [],
   "source": [
    "import pandas as pd\n",
    "import numpy as np\n",
    "import matplotlib as mp\n",
    "import matplotlib.pyplot as plt\n",
    "import seaborn as sb\n",
    "from sklearn.model_selection import train_test_split\n",
    "from sklearn import metrics \n",
    "from sklearn.metrics import accuracy_score, precision_score, recall_score,f1_score, cohen_kappa_score\n",
    "from sklearn.ensemble import GradientBoostingClassifier"
   ]
  },
  {
   "cell_type": "markdown",
   "metadata": {},
   "source": [
    "# Reading data file"
   ]
  },
  {
   "cell_type": "code",
   "execution_count": 2,
   "metadata": {},
   "outputs": [],
   "source": [
    "df = pd.read_csv(\"voice.csv\")"
   ]
  },
  {
   "cell_type": "markdown",
   "metadata": {},
   "source": [
    "# Converting Categorical Values into Numerical Values"
   ]
  },
  {
   "cell_type": "code",
   "execution_count": 3,
   "metadata": {},
   "outputs": [
    {
     "data": {
      "text/plain": [
       "1    1584\n",
       "0    1584\n",
       "Name: label, dtype: int64"
      ]
     },
     "execution_count": 3,
     "metadata": {},
     "output_type": "execute_result"
    }
   ],
   "source": [
    "df['label']  = [1 if i == \"male\" else 0 for i in df.label]\n",
    "df.label.value_counts()"
   ]
  },
  {
   "cell_type": "code",
   "execution_count": 4,
   "metadata": {},
   "outputs": [
    {
     "name": "stdout",
     "output_type": "stream",
     "text": [
      "Number of examples in the data: (3168, 20)\n"
     ]
    }
   ],
   "source": [
    "# Extracting target/ class labels\n",
    "y = df.label.values\n",
    "\n",
    "#Extracting data attributes\n",
    "x = df.drop([\"label\"],axis=1)\n",
    "\n",
    "print('Number of examples in the data:', x.shape)"
   ]
  },
  {
   "cell_type": "markdown",
   "metadata": {},
   "source": [
    "# Splitting Dataset into Training and Testing Set"
   ]
  },
  {
   "cell_type": "code",
   "execution_count": 5,
   "metadata": {},
   "outputs": [],
   "source": [
    "#Using the train_test_split to create train and test sets.\n",
    "x_train, x_test, y_train, y_test = train_test_split (x,y,test_size=0.2,random_state = 50)"
   ]
  },
  {
   "cell_type": "markdown",
   "metadata": {},
   "source": [
    "# Training the Model"
   ]
  },
  {
   "cell_type": "code",
   "execution_count": 8,
   "metadata": {},
   "outputs": [
    {
     "name": "stdout",
     "output_type": "stream",
     "text": [
      "Accuracy on training set: 0.99684\n",
      "Accuracy on test set: 0.97003\n",
      "Out of total 634 samples 615 samples were predicted correctly\n"
     ]
    }
   ],
   "source": [
    "gb = GradientBoostingClassifier(n_estimators=100, learning_rate=1.0, max_depth=1)\n",
    "gb.fit(x_train, y_train)\n",
    "print(\"Accuracy on training set: {:.5f}\".format(gb.score(x_train, y_train)))\n",
    "print(\"Accuracy on test set: {:.5f}\".format(gb.score(x_test, y_test)))\n",
    "predications = gb.predict(x_test)\n",
    "print(\"Out of total 634 samples \"+str(metrics.accuracy_score(y_test, predications,normalize = False))+\" samples were predicted correctly\")\n"
   ]
  },
  {
   "cell_type": "code",
   "execution_count": 21,
   "metadata": {},
   "outputs": [],
   "source": [
    "def classify(model,x_train,y_train,x_test,y_test):\n",
    "    from sklearn.metrics import classification_report\n",
    "    target_names = ['male', 'female']\n",
    "    model.fit(x_train,y_train)\n",
    "    y_pred=model.predict(x_test)\n",
    "    print(classification_report(y_test, y_pred, target_names=target_names, digits=4))"
   ]
  },
  {
   "cell_type": "code",
   "execution_count": 22,
   "metadata": {},
   "outputs": [
    {
     "name": "stdout",
     "output_type": "stream",
     "text": [
      "              precision    recall  f1-score   support\n",
      "\n",
      "        male     0.9664    0.9753    0.9708       324\n",
      "      female     0.9739    0.9645    0.9692       310\n",
      "\n",
      "    accuracy                         0.9700       634\n",
      "   macro avg     0.9702    0.9699    0.9700       634\n",
      "weighted avg     0.9701    0.9700    0.9700       634\n",
      "\n"
     ]
    }
   ],
   "source": [
    "classify(gb,x_train,y_train,x_test,y_test)"
   ]
  },
  {
   "cell_type": "code",
   "execution_count": 23,
   "metadata": {},
   "outputs": [],
   "source": [
    "accscore = accuracy_score (y_test, predications)\n",
    "recscore = recall_score (y_test, predications)\n",
    "f1score = f1_score (y_test, predications)\n",
    "kappascore =cohen_kappa_score(y_test,predications)\n",
    "prescor = precision_score(y_test, predications)"
   ]
  },
  {
   "cell_type": "code",
   "execution_count": 24,
   "metadata": {},
   "outputs": [
    {
     "name": "stdout",
     "output_type": "stream",
     "text": [
      "Accuracy score :0.9700315457413249\n",
      "Precision score :0.9739413680781759\n",
      "Recall score :0.964516129032258\n",
      "F1 score :0.9692058346839546\n"
     ]
    }
   ],
   "source": [
    "print(\"Accuracy score :\"+str(accscore))\n",
    "print(\"Precision score :\"+str(prescor))\n",
    "print(\"Recall score :\"+str(recscore))\n",
    "print(\"F1 score :\"+str(f1score))"
   ]
  },
  {
   "cell_type": "markdown",
   "metadata": {},
   "source": [
    "# Confusion Matrix"
   ]
  },
  {
   "cell_type": "code",
   "execution_count": 25,
   "metadata": {},
   "outputs": [
    {
     "data": {
      "image/png": "[encoded data removed]",
      "text/plain": [
       "<Figure size 432x288 with 2 Axes>"
      ]
     },
     "metadata": {
      "needs_background": "light"
     },
     "output_type": "display_data"
    }
   ],
   "source": [
    "from sklearn.metrics import confusion_matrix\n",
    "conf_matrix = confusion_matrix(y_test,predications)\n",
    "sb.heatmap(conf_matrix,annot=True,fmt=\".0f\")\n",
    "plt.ylabel(\"Actual\")\n",
    "plt.xlabel(\"Predicted\")\n",
    "plt.title(\"Random Forest Confusion Matrix\")\n",
    "plt.show()"
   ]
  },
  {
   "cell_type": "markdown",
   "metadata": {},
   "source": [
    "# Feature Selection"
   ]
  },
  {
   "cell_type": "code",
   "execution_count": 26,
   "metadata": {},
   "outputs": [
    {
     "data": {
      "text/plain": [
       "<matplotlib.axes._subplots.AxesSubplot at 0x244502a5e20>"
      ]
     },
     "execution_count": 26,
     "metadata": {},
     "output_type": "execute_result"
    },
    {
     "data": {
      "image/png": "[encoded data removed]",
      "text/plain": [
       "<Figure size 720x216 with 1 Axes>"
      ]
     },
     "metadata": {
      "needs_background": "light"
     },
     "output_type": "display_data"
    }
   ],
   "source": [
    "imp = gb.feature_importances_\n",
    "data = pd.DataFrame({\"Features\": x_train.columns,\"imp\":imp})\n",
    "data.set_index(\"imp\")\n",
    "data = data.sort_values(\"imp\")\n",
    "plt.figure(figsize=(10,3))\n",
    "plt.xticks(rotation=45)\n",
    "sb.barplot(x=\"Features\",y=\"imp\",data=data)"
   ]
  },
  {
   "cell_type": "markdown",
   "metadata": {},
   "source": [
    "# Pickle"
   ]
  },
  {
   "cell_type": "code",
   "execution_count": 27,
   "metadata": {},
   "outputs": [],
   "source": [
    "#saving the model\n",
    "import pickle \n",
    "pickle.dump(gb, open(\"gb1.pkl\", 'wb'))"
   ]
  },
  {
   "cell_type": "markdown",
   "metadata": {},
   "source": [
    "# Grid Search CV"
   ]
  },
  {
   "cell_type": "code",
   "execution_count": 29,
   "metadata": {},
   "outputs": [],
   "source": [
    "from sklearn.ensemble import GradientBoostingRegressor"
   ]
  },
  {
   "cell_type": "code",
   "execution_count": 30,
   "metadata": {},
   "outputs": [],
   "source": [
    "parameters = {\n",
    "    \"n_estimators\":[5,50,100],\n",
    "    \"max_depth\":[1,2,3,4,5],\n",
    "    \"learning_rate\":[0.01,0.075,0.1,0.25,0.5,0.75,1]\n",
    "}"
   ]
  },
  {
   "cell_type": "code",
   "execution_count": 32,
   "metadata": {},
   "outputs": [
    {
     "data": {
      "text/plain": [
       "{'mean_fit_time': array([0.03505569, 0.28845713, 0.58902583, 0.05810075, 0.51847889,\n",
       "        1.03191023, 0.07436273, 0.78299968, 1.58197265, 0.10161726,\n",
       "        1.03189461, 2.03115644, 0.12671485, 1.31211929, 2.42040045,\n",
       "        0.03226483, 0.28187211, 0.55199642, 0.05340254, 0.51404731,\n",
       "        1.02578189, 0.08063624, 0.76141536, 1.50139179, 0.10026515,\n",
       "        0.96037877, 1.92788026, 0.12046862, 1.19996684, 2.38701859,\n",
       "        0.02823219, 0.27649219, 0.55267532, 0.05620842, 0.51624756,\n",
       "        1.02518041, 0.07497706, 0.73494658, 1.51205754, 0.1041698 ,\n",
       "        0.97404723, 1.99764962, 0.13589785, 1.30132821, 2.6258985 ,\n",
       "        0.03139989, 0.28449681, 0.56327236, 0.05394561, 0.54749219,\n",
       "        1.01488814, 0.07650867, 0.74031715, 1.48449516, 0.10036118,\n",
       "        0.96550665, 1.94027948, 0.13302927, 1.24933093, 2.58101683,\n",
       "        0.03087678, 0.27470527, 0.54923794, 0.05413399, 0.52845356,\n",
       "        1.0499558 , 0.08262289, 0.80069907, 1.55527368, 0.10275154,\n",
       "        1.02487934, 1.95410044, 0.12484393, 1.20698562, 2.65626545,\n",
       "        0.0335263 , 0.27599645, 0.545735  , 0.05243702, 0.50763168,\n",
       "        1.01584189, 0.08017943, 0.7402699 , 1.47547369, 0.10070899,\n",
       "        0.97438035, 1.9389648 , 0.12333639, 1.19814057, 2.39497023,\n",
       "        0.03135085, 0.27509758, 0.5480535 , 0.05553706, 0.51214104,\n",
       "        1.01184843, 0.07652483, 0.73762972, 1.4928751 , 0.10061483,\n",
       "        0.96666427, 1.94919181, 0.12439911, 1.20208673, 2.42377968]),\n",
       " 'std_fit_time': array([0.00547059, 0.0128796 , 0.02589643, 0.00687468, 0.00871906,\n",
       "        0.01793838, 0.00521644, 0.03595058, 0.04808931, 0.00561221,\n",
       "        0.0723534 , 0.0655261 , 0.00881134, 0.06341788, 0.05101069,\n",
       "        0.00399668, 0.00713554, 0.00422119, 0.00639302, 0.01435895,\n",
       "        0.02011584, 0.00372791, 0.02848306, 0.03565143, 0.00609739,\n",
       "        0.01109015, 0.00904261, 0.00619887, 0.0075963 , 0.00743127,\n",
       "        0.00710031, 0.00769104, 0.00845768, 0.00627776, 0.01357954,\n",
       "        0.03288896, 0.00761224, 0.00903267, 0.05721537, 0.00565761,\n",
       "        0.03574394, 0.10470236, 0.01116224, 0.07314317, 0.14966904,\n",
       "        0.0072995 , 0.02384924, 0.02018905, 0.0061565 , 0.04950822,\n",
       "        0.00378418, 0.0062161 , 0.00746055, 0.02028416, 0.00547114,\n",
       "        0.00695428, 0.0183483 , 0.00830331, 0.07160148, 0.19526996,\n",
       "        0.0048709 , 0.00754036, 0.00503104, 0.00676851, 0.02083307,\n",
       "        0.04470026, 0.01163791, 0.03482911, 0.05199485, 0.00540963,\n",
       "        0.06112098, 0.03994684, 0.00623185, 0.02171604, 0.26203866,\n",
       "        0.00310728, 0.0072903 , 0.007236  , 0.00709672, 0.00592031,\n",
       "        0.01154161, 0.00164974, 0.01685843, 0.00645176, 0.00679161,\n",
       "        0.01239888, 0.01169614, 0.00503622, 0.00826486, 0.00698218,\n",
       "        0.00032061, 0.00553795, 0.00491569, 0.00793971, 0.00277634,\n",
       "        0.00631016, 0.00654552, 0.00672285, 0.03337974, 0.00718922,\n",
       "        0.00583532, 0.02501068, 0.00472683, 0.00664328, 0.03637613]),\n",
       " 'mean_score_time': array([1.41801834e-03, 1.82013512e-03, 2.36763954e-03, 1.67334080e-03,\n",
       "        6.47099018e-03, 4.88564968e-03, 6.37550354e-03, 4.42576408e-03,\n",
       "        3.71038914e-03, 2.24239826e-03, 3.67732048e-03, 7.17058182e-03,\n",
       "        3.12049389e-03, 3.72736454e-03, 3.12561989e-03, 3.12435627e-03,\n",
       "        1.67202950e-03, 1.66192055e-03, 3.19423676e-03, 6.25042915e-03,\n",
       "        9.98973846e-05, 0.00000000e+00, 4.47804928e-03, 2.57506371e-03,\n",
       "        3.93240452e-03, 3.12528610e-03, 1.56247616e-03, 3.12550068e-03,\n",
       "        1.66187286e-03, 4.82573509e-03, 4.70268726e-03, 3.34730148e-03,\n",
       "        0.00000000e+00, 2.12192535e-04, 1.30183697e-03, 2.59032249e-03,\n",
       "        3.22484970e-03, 3.24313641e-03, 3.28092575e-03, 4.15725708e-03,\n",
       "        1.56214237e-03, 2.82537937e-03, 8.74090195e-04, 4.78110313e-03,\n",
       "        4.74858284e-03, 1.97470188e-03, 6.83815479e-03, 4.03449535e-03,\n",
       "        5.88564873e-03, 2.15246677e-03, 1.91404819e-03, 2.37388611e-03,\n",
       "        1.56226158e-03, 3.48041058e-03, 1.88221931e-03, 3.24215889e-03,\n",
       "        4.69071865e-03, 1.79111958e-03, 2.01156139e-03, 4.47599888e-03,\n",
       "        1.56240463e-03, 4.69148159e-03, 0.00000000e+00, 3.12409401e-03,\n",
       "        4.85708714e-03, 8.99505615e-04, 4.74696159e-03, 1.11496449e-03,\n",
       "        2.73666382e-03, 3.30233574e-04, 2.25472450e-03, 6.24644756e-03,\n",
       "        1.67477131e-03, 3.46322060e-03, 5.07979393e-03, 0.00000000e+00,\n",
       "        1.56323910e-03, 1.56223774e-03, 3.12452316e-03, 4.69503403e-03,\n",
       "        1.56226158e-03, 0.00000000e+00, 6.37173653e-03, 1.74746513e-03,\n",
       "        0.00000000e+00, 1.88174248e-03, 1.96948051e-03, 0.00000000e+00,\n",
       "        3.12471390e-03, 4.79652882e-03, 3.12454700e-03, 1.56226158e-03,\n",
       "        0.00000000e+00, 1.56288147e-03, 9.98973846e-05, 1.56219006e-03,\n",
       "        3.12435627e-03, 2.21836567e-03, 2.45993137e-03, 1.56643391e-03,\n",
       "        6.67939186e-03, 5.02536297e-03, 0.00000000e+00, 1.56230927e-03,\n",
       "        2.02488899e-04]),\n",
       " 'std_score_time': array([0.00252773, 0.00293877, 0.00488251, 0.00468752, 0.00793245,\n",
       "        0.00706092, 0.00781525, 0.00642197, 0.00549772, 0.00483415,\n",
       "        0.00374885, 0.00671932, 0.00499536, 0.00531619, 0.00625124,\n",
       "        0.00624871, 0.00501609, 0.00466341, 0.00639024, 0.00765518,\n",
       "        0.00029969, 0.        , 0.00667096, 0.00536802, 0.00631988,\n",
       "        0.00625057, 0.00468743, 0.006251  , 0.00466275, 0.00708083,\n",
       "        0.00718348, 0.00671303, 0.        , 0.00063658, 0.00252563,\n",
       "        0.00460001, 0.00620739, 0.00649051, 0.00541669, 0.00606105,\n",
       "        0.00468643, 0.0049419 , 0.00124052, 0.00477364, 0.00646058,\n",
       "        0.00500684, 0.00703099, 0.00519939, 0.00672726, 0.00467319,\n",
       "        0.00395331, 0.00503998, 0.00468678, 0.00640089, 0.00469098,\n",
       "        0.00648934, 0.0071652 , 0.0028013 , 0.00472991, 0.00690685,\n",
       "        0.00468721, 0.00716636, 0.        , 0.00624819, 0.00635114,\n",
       "        0.00167559, 0.00614068, 0.00248121, 0.00370938, 0.0009907 ,\n",
       "        0.00219719, 0.00744377, 0.00469053, 0.00616406, 0.00905832,\n",
       "        0.        , 0.00468972, 0.00468671, 0.00624905, 0.00717179,\n",
       "        0.00468678, 0.        , 0.00780959, 0.0052424 , 0.        ,\n",
       "        0.00499963, 0.00525785, 0.        , 0.00624943, 0.00733148,\n",
       "        0.00624909, 0.00468678, 0.        , 0.00468864, 0.00029969,\n",
       "        0.00468657, 0.00624871, 0.00487752, 0.0050311 , 0.0046993 ,\n",
       "        0.00800087, 0.00700911, 0.        , 0.00468693, 0.00040505]),\n",
       " 'param_learning_rate': masked_array(data=[0.01, 0.01, 0.01, 0.01, 0.01, 0.01, 0.01, 0.01, 0.01,\n",
       "                    0.01, 0.01, 0.01, 0.01, 0.01, 0.01, 0.075, 0.075,\n",
       "                    0.075, 0.075, 0.075, 0.075, 0.075, 0.075, 0.075, 0.075,\n",
       "                    0.075, 0.075, 0.075, 0.075, 0.075, 0.1, 0.1, 0.1, 0.1,\n",
       "                    0.1, 0.1, 0.1, 0.1, 0.1, 0.1, 0.1, 0.1, 0.1, 0.1, 0.1,\n",
       "                    0.25, 0.25, 0.25, 0.25, 0.25, 0.25, 0.25, 0.25, 0.25,\n",
       "                    0.25, 0.25, 0.25, 0.25, 0.25, 0.25, 0.5, 0.5, 0.5, 0.5,\n",
       "                    0.5, 0.5, 0.5, 0.5, 0.5, 0.5, 0.5, 0.5, 0.5, 0.5, 0.5,\n",
       "                    0.75, 0.75, 0.75, 0.75, 0.75, 0.75, 0.75, 0.75, 0.75,\n",
       "                    0.75, 0.75, 0.75, 0.75, 0.75, 0.75, 1, 1, 1, 1, 1, 1,\n",
       "                    1, 1, 1, 1, 1, 1, 1, 1, 1],\n",
       "              mask=[False, False, False, False, False, False, False, False,\n",
       "                    False, False, False, False, False, False, False, False,\n",
       "                    False, False, False, False, False, False, False, False,\n",
       "                    False, False, False, False, False, False, False, False,\n",
       "                    False, False, False, False, False, False, False, False,\n",
       "                    False, False, False, False, False, False, False, False,\n",
       "                    False, False, False, False, False, False, False, False,\n",
       "                    False, False, False, False, False, False, False, False,\n",
       "                    False, False, False, False, False, False, False, False,\n",
       "                    False, False, False, False, False, False, False, False,\n",
       "                    False, False, False, False, False, False, False, False,\n",
       "                    False, False, False, False, False, False, False, False,\n",
       "                    False, False, False, False, False, False, False, False,\n",
       "                    False],\n",
       "        fill_value='?',\n",
       "             dtype=object),\n",
       " 'param_max_depth': masked_array(data=[1, 1, 1, 2, 2, 2, 3, 3, 3, 4, 4, 4, 5, 5, 5, 1, 1, 1,\n",
       "                    2, 2, 2, 3, 3, 3, 4, 4, 4, 5, 5, 5, 1, 1, 1, 2, 2, 2,\n",
       "                    3, 3, 3, 4, 4, 4, 5, 5, 5, 1, 1, 1, 2, 2, 2, 3, 3, 3,\n",
       "                    4, 4, 4, 5, 5, 5, 1, 1, 1, 2, 2, 2, 3, 3, 3, 4, 4, 4,\n",
       "                    5, 5, 5, 1, 1, 1, 2, 2, 2, 3, 3, 3, 4, 4, 4, 5, 5, 5,\n",
       "                    1, 1, 1, 2, 2, 2, 3, 3, 3, 4, 4, 4, 5, 5, 5],\n",
       "              mask=[False, False, False, False, False, False, False, False,\n",
       "                    False, False, False, False, False, False, False, False,\n",
       "                    False, False, False, False, False, False, False, False,\n",
       "                    False, False, False, False, False, False, False, False,\n",
       "                    False, False, False, False, False, False, False, False,\n",
       "                    False, False, False, False, False, False, False, False,\n",
       "                    False, False, False, False, False, False, False, False,\n",
       "                    False, False, False, False, False, False, False, False,\n",
       "                    False, False, False, False, False, False, False, False,\n",
       "                    False, False, False, False, False, False, False, False,\n",
       "                    False, False, False, False, False, False, False, False,\n",
       "                    False, False, False, False, False, False, False, False,\n",
       "                    False, False, False, False, False, False, False, False,\n",
       "                    False],\n",
       "        fill_value='?',\n",
       "             dtype=object),\n",
       " 'param_n_estimators': masked_array(data=[5, 50, 100, 5, 50, 100, 5, 50, 100, 5, 50, 100, 5, 50,\n",
       "                    100, 5, 50, 100, 5, 50, 100, 5, 50, 100, 5, 50, 100, 5,\n",
       "                    50, 100, 5, 50, 100, 5, 50, 100, 5, 50, 100, 5, 50,\n",
       "                    100, 5, 50, 100, 5, 50, 100, 5, 50, 100, 5, 50, 100, 5,\n",
       "                    50, 100, 5, 50, 100, 5, 50, 100, 5, 50, 100, 5, 50,\n",
       "                    100, 5, 50, 100, 5, 50, 100, 5, 50, 100, 5, 50, 100, 5,\n",
       "                    50, 100, 5, 50, 100, 5, 50, 100, 5, 50, 100, 5, 50,\n",
       "                    100, 5, 50, 100, 5, 50, 100, 5, 50, 100],\n",
       "              mask=[False, False, False, False, False, False, False, False,\n",
       "                    False, False, False, False, False, False, False, False,\n",
       "                    False, False, False, False, False, False, False, False,\n",
       "                    False, False, False, False, False, False, False, False,\n",
       "                    False, False, False, False, False, False, False, False,\n",
       "                    False, False, False, False, False, False, False, False,\n",
       "                    False, False, False, False, False, False, False, False,\n",
       "                    False, False, False, False, False, False, False, False,\n",
       "                    False, False, False, False, False, False, False, False,\n",
       "                    False, False, False, False, False, False, False, False,\n",
       "                    False, False, False, False, False, False, False, False,\n",
       "                    False, False, False, False, False, False, False, False,\n",
       "                    False, False, False, False, False, False, False, False,\n",
       "                    False],\n",
       "        fill_value='?',\n",
       "             dtype=object),\n",
       " 'params': [{'learning_rate': 0.01, 'max_depth': 1, 'n_estimators': 5},\n",
       "  {'learning_rate': 0.01, 'max_depth': 1, 'n_estimators': 50},\n",
       "  {'learning_rate': 0.01, 'max_depth': 1, 'n_estimators': 100},\n",
       "  {'learning_rate': 0.01, 'max_depth': 2, 'n_estimators': 5},\n",
       "  {'learning_rate': 0.01, 'max_depth': 2, 'n_estimators': 50},\n",
       "  {'learning_rate': 0.01, 'max_depth': 2, 'n_estimators': 100},\n",
       "  {'learning_rate': 0.01, 'max_depth': 3, 'n_estimators': 5},\n",
       "  {'learning_rate': 0.01, 'max_depth': 3, 'n_estimators': 50},\n",
       "  {'learning_rate': 0.01, 'max_depth': 3, 'n_estimators': 100},\n",
       "  {'learning_rate': 0.01, 'max_depth': 4, 'n_estimators': 5},\n",
       "  {'learning_rate': 0.01, 'max_depth': 4, 'n_estimators': 50},\n",
       "  {'learning_rate': 0.01, 'max_depth': 4, 'n_estimators': 100},\n",
       "  {'learning_rate': 0.01, 'max_depth': 5, 'n_estimators': 5},\n",
       "  {'learning_rate': 0.01, 'max_depth': 5, 'n_estimators': 50},\n",
       "  {'learning_rate': 0.01, 'max_depth': 5, 'n_estimators': 100},\n",
       "  {'learning_rate': 0.075, 'max_depth': 1, 'n_estimators': 5},\n",
       "  {'learning_rate': 0.075, 'max_depth': 1, 'n_estimators': 50},\n",
       "  {'learning_rate': 0.075, 'max_depth': 1, 'n_estimators': 100},\n",
       "  {'learning_rate': 0.075, 'max_depth': 2, 'n_estimators': 5},\n",
       "  {'learning_rate': 0.075, 'max_depth': 2, 'n_estimators': 50},\n",
       "  {'learning_rate': 0.075, 'max_depth': 2, 'n_estimators': 100},\n",
       "  {'learning_rate': 0.075, 'max_depth': 3, 'n_estimators': 5},\n",
       "  {'learning_rate': 0.075, 'max_depth': 3, 'n_estimators': 50},\n",
       "  {'learning_rate': 0.075, 'max_depth': 3, 'n_estimators': 100},\n",
       "  {'learning_rate': 0.075, 'max_depth': 4, 'n_estimators': 5},\n",
       "  {'learning_rate': 0.075, 'max_depth': 4, 'n_estimators': 50},\n",
       "  {'learning_rate': 0.075, 'max_depth': 4, 'n_estimators': 100},\n",
       "  {'learning_rate': 0.075, 'max_depth': 5, 'n_estimators': 5},\n",
       "  {'learning_rate': 0.075, 'max_depth': 5, 'n_estimators': 50},\n",
       "  {'learning_rate': 0.075, 'max_depth': 5, 'n_estimators': 100},\n",
       "  {'learning_rate': 0.1, 'max_depth': 1, 'n_estimators': 5},\n",
       "  {'learning_rate': 0.1, 'max_depth': 1, 'n_estimators': 50},\n",
       "  {'learning_rate': 0.1, 'max_depth': 1, 'n_estimators': 100},\n",
       "  {'learning_rate': 0.1, 'max_depth': 2, 'n_estimators': 5},\n",
       "  {'learning_rate': 0.1, 'max_depth': 2, 'n_estimators': 50},\n",
       "  {'learning_rate': 0.1, 'max_depth': 2, 'n_estimators': 100},\n",
       "  {'learning_rate': 0.1, 'max_depth': 3, 'n_estimators': 5},\n",
       "  {'learning_rate': 0.1, 'max_depth': 3, 'n_estimators': 50},\n",
       "  {'learning_rate': 0.1, 'max_depth': 3, 'n_estimators': 100},\n",
       "  {'learning_rate': 0.1, 'max_depth': 4, 'n_estimators': 5},\n",
       "  {'learning_rate': 0.1, 'max_depth': 4, 'n_estimators': 50},\n",
       "  {'learning_rate': 0.1, 'max_depth': 4, 'n_estimators': 100},\n",
       "  {'learning_rate': 0.1, 'max_depth': 5, 'n_estimators': 5},\n",
       "  {'learning_rate': 0.1, 'max_depth': 5, 'n_estimators': 50},\n",
       "  {'learning_rate': 0.1, 'max_depth': 5, 'n_estimators': 100},\n",
       "  {'learning_rate': 0.25, 'max_depth': 1, 'n_estimators': 5},\n",
       "  {'learning_rate': 0.25, 'max_depth': 1, 'n_estimators': 50},\n",
       "  {'learning_rate': 0.25, 'max_depth': 1, 'n_estimators': 100},\n",
       "  {'learning_rate': 0.25, 'max_depth': 2, 'n_estimators': 5},\n",
       "  {'learning_rate': 0.25, 'max_depth': 2, 'n_estimators': 50},\n",
       "  {'learning_rate': 0.25, 'max_depth': 2, 'n_estimators': 100},\n",
       "  {'learning_rate': 0.25, 'max_depth': 3, 'n_estimators': 5},\n",
       "  {'learning_rate': 0.25, 'max_depth': 3, 'n_estimators': 50},\n",
       "  {'learning_rate': 0.25, 'max_depth': 3, 'n_estimators': 100},\n",
       "  {'learning_rate': 0.25, 'max_depth': 4, 'n_estimators': 5},\n",
       "  {'learning_rate': 0.25, 'max_depth': 4, 'n_estimators': 50},\n",
       "  {'learning_rate': 0.25, 'max_depth': 4, 'n_estimators': 100},\n",
       "  {'learning_rate': 0.25, 'max_depth': 5, 'n_estimators': 5},\n",
       "  {'learning_rate': 0.25, 'max_depth': 5, 'n_estimators': 50},\n",
       "  {'learning_rate': 0.25, 'max_depth': 5, 'n_estimators': 100},\n",
       "  {'learning_rate': 0.5, 'max_depth': 1, 'n_estimators': 5},\n",
       "  {'learning_rate': 0.5, 'max_depth': 1, 'n_estimators': 50},\n",
       "  {'learning_rate': 0.5, 'max_depth': 1, 'n_estimators': 100},\n",
       "  {'learning_rate': 0.5, 'max_depth': 2, 'n_estimators': 5},\n",
       "  {'learning_rate': 0.5, 'max_depth': 2, 'n_estimators': 50},\n",
       "  {'learning_rate': 0.5, 'max_depth': 2, 'n_estimators': 100},\n",
       "  {'learning_rate': 0.5, 'max_depth': 3, 'n_estimators': 5},\n",
       "  {'learning_rate': 0.5, 'max_depth': 3, 'n_estimators': 50},\n",
       "  {'learning_rate': 0.5, 'max_depth': 3, 'n_estimators': 100},\n",
       "  {'learning_rate': 0.5, 'max_depth': 4, 'n_estimators': 5},\n",
       "  {'learning_rate': 0.5, 'max_depth': 4, 'n_estimators': 50},\n",
       "  {'learning_rate': 0.5, 'max_depth': 4, 'n_estimators': 100},\n",
       "  {'learning_rate': 0.5, 'max_depth': 5, 'n_estimators': 5},\n",
       "  {'learning_rate': 0.5, 'max_depth': 5, 'n_estimators': 50},\n",
       "  {'learning_rate': 0.5, 'max_depth': 5, 'n_estimators': 100},\n",
       "  {'learning_rate': 0.75, 'max_depth': 1, 'n_estimators': 5},\n",
       "  {'learning_rate': 0.75, 'max_depth': 1, 'n_estimators': 50},\n",
       "  {'learning_rate': 0.75, 'max_depth': 1, 'n_estimators': 100},\n",
       "  {'learning_rate': 0.75, 'max_depth': 2, 'n_estimators': 5},\n",
       "  {'learning_rate': 0.75, 'max_depth': 2, 'n_estimators': 50},\n",
       "  {'learning_rate': 0.75, 'max_depth': 2, 'n_estimators': 100},\n",
       "  {'learning_rate': 0.75, 'max_depth': 3, 'n_estimators': 5},\n",
       "  {'learning_rate': 0.75, 'max_depth': 3, 'n_estimators': 50},\n",
       "  {'learning_rate': 0.75, 'max_depth': 3, 'n_estimators': 100},\n",
       "  {'learning_rate': 0.75, 'max_depth': 4, 'n_estimators': 5},\n",
       "  {'learning_rate': 0.75, 'max_depth': 4, 'n_estimators': 50},\n",
       "  {'learning_rate': 0.75, 'max_depth': 4, 'n_estimators': 100},\n",
       "  {'learning_rate': 0.75, 'max_depth': 5, 'n_estimators': 5},\n",
       "  {'learning_rate': 0.75, 'max_depth': 5, 'n_estimators': 50},\n",
       "  {'learning_rate': 0.75, 'max_depth': 5, 'n_estimators': 100},\n",
       "  {'learning_rate': 1, 'max_depth': 1, 'n_estimators': 5},\n",
       "  {'learning_rate': 1, 'max_depth': 1, 'n_estimators': 50},\n",
       "  {'learning_rate': 1, 'max_depth': 1, 'n_estimators': 100},\n",
       "  {'learning_rate': 1, 'max_depth': 2, 'n_estimators': 5},\n",
       "  {'learning_rate': 1, 'max_depth': 2, 'n_estimators': 50},\n",
       "  {'learning_rate': 1, 'max_depth': 2, 'n_estimators': 100},\n",
       "  {'learning_rate': 1, 'max_depth': 3, 'n_estimators': 5},\n",
       "  {'learning_rate': 1, 'max_depth': 3, 'n_estimators': 50},\n",
       "  {'learning_rate': 1, 'max_depth': 3, 'n_estimators': 100},\n",
       "  {'learning_rate': 1, 'max_depth': 4, 'n_estimators': 5},\n",
       "  {'learning_rate': 1, 'max_depth': 4, 'n_estimators': 50},\n",
       "  {'learning_rate': 1, 'max_depth': 4, 'n_estimators': 100},\n",
       "  {'learning_rate': 1, 'max_depth': 5, 'n_estimators': 5},\n",
       "  {'learning_rate': 1, 'max_depth': 5, 'n_estimators': 50},\n",
       "  {'learning_rate': 1, 'max_depth': 5, 'n_estimators': 100}],\n",
       " 'split0_test_score': array([0.96850394, 0.96850394, 0.96850394, 0.97244094, 0.97637795,\n",
       "        0.97637795, 0.98031496, 0.98031496, 0.98425197, 0.97244094,\n",
       "        0.98031496, 0.98425197, 0.98425197, 0.98818898, 0.99212598,\n",
       "        0.96850394, 0.97637795, 0.98031496, 0.97637795, 0.98031496,\n",
       "        0.98425197, 0.98031496, 0.98818898, 0.98818898, 0.97637795,\n",
       "        0.99212598, 0.99212598, 0.98425197, 0.99212598, 0.98818898,\n",
       "        0.97244094, 0.97637795, 0.98031496, 0.97637795, 0.98031496,\n",
       "        0.98818898, 0.98031496, 0.98818898, 0.99606299, 0.98031496,\n",
       "        0.99212598, 0.98818898, 0.99212598, 0.99212598, 0.98818898,\n",
       "        0.97637795, 0.98818898, 0.98425197, 0.97637795, 0.99212598,\n",
       "        0.99212598, 0.98031496, 0.98425197, 0.98425197, 0.98425197,\n",
       "        0.98818898, 0.99212598, 0.98031496, 0.98818898, 0.99212598,\n",
       "        0.97637795, 0.99606299, 0.98818898, 0.98031496, 0.99212598,\n",
       "        0.98818898, 0.98425197, 0.99212598, 0.99606299, 0.98425197,\n",
       "        0.98425197, 0.98818898, 0.98818898, 0.98818898, 0.98818898,\n",
       "        0.97637795, 0.98818898, 0.98818898, 0.98425197, 0.99212598,\n",
       "        0.99212598, 0.98425197, 0.98818898, 0.99212598, 0.98031496,\n",
       "        0.98818898, 0.98818898, 0.97244094, 0.98818898, 0.98818898,\n",
       "        0.98031496, 0.99212598, 0.99212598, 0.98425197, 0.98425197,\n",
       "        0.98425197, 0.97637795, 0.98818898, 0.98425197, 0.96850394,\n",
       "        0.98818898, 0.98818898, 0.98031496, 0.98818898, 0.99212598]),\n",
       " 'split1_test_score': array([0.94094488, 0.94094488, 0.94094488, 0.95669291, 0.96456693,\n",
       "        0.96456693, 0.96456693, 0.95669291, 0.96062992, 0.9488189 ,\n",
       "        0.9488189 , 0.95669291, 0.9488189 , 0.9488189 , 0.9488189 ,\n",
       "        0.94094488, 0.96062992, 0.96850394, 0.95669291, 0.96456693,\n",
       "        0.96850394, 0.96062992, 0.96850394, 0.96456693, 0.9488189 ,\n",
       "        0.96456693, 0.97244094, 0.94488189, 0.96456693, 0.96456693,\n",
       "        0.94094488, 0.96456693, 0.96850394, 0.96062992, 0.96062992,\n",
       "        0.96850394, 0.96062992, 0.96850394, 0.96850394, 0.9488189 ,\n",
       "        0.96850394, 0.97244094, 0.9488189 , 0.96062992, 0.96850394,\n",
       "        0.96062992, 0.96850394, 0.97244094, 0.96456693, 0.97244094,\n",
       "        0.96456693, 0.96456693, 0.96456693, 0.96850394, 0.96062992,\n",
       "        0.96850394, 0.97244094, 0.9488189 , 0.96850394, 0.96850394,\n",
       "        0.96062992, 0.97637795, 0.96850394, 0.96456693, 0.97244094,\n",
       "        0.96850394, 0.97244094, 0.96850394, 0.96062992, 0.96456693,\n",
       "        0.96850394, 0.97244094, 0.95275591, 0.96850394, 0.97244094,\n",
       "        0.96062992, 0.97637795, 0.96850394, 0.96850394, 0.95669291,\n",
       "        0.96456693, 0.96062992, 0.96850394, 0.96850394, 0.9488189 ,\n",
       "        0.96850394, 0.96850394, 0.9488189 , 0.97244094, 0.97244094,\n",
       "        0.97244094, 0.96850394, 0.96850394, 0.96456693, 0.97244094,\n",
       "        0.96850394, 0.96062992, 0.96062992, 0.96456693, 0.94488189,\n",
       "        0.96456693, 0.97244094, 0.96850394, 0.96062992, 0.96850394]),\n",
       " 'split2_test_score': array([0.95275591, 0.95275591, 0.95275591, 0.95275591, 0.9488189 ,\n",
       "        0.96850394, 0.95275591, 0.96062992, 0.96456693, 0.97244094,\n",
       "        0.96850394, 0.96456693, 0.94488189, 0.95669291, 0.96062992,\n",
       "        0.95275591, 0.96850394, 0.97637795, 0.94094488, 0.97244094,\n",
       "        0.97637795, 0.9488189 , 0.97244094, 0.97244094, 0.96850394,\n",
       "        0.97637795, 0.97244094, 0.95669291, 0.97244094, 0.97244094,\n",
       "        0.95275591, 0.96850394, 0.97637795, 0.94094488, 0.97244094,\n",
       "        0.97637795, 0.96062992, 0.97244094, 0.97244094, 0.96850394,\n",
       "        0.97637795, 0.97244094, 0.95275591, 0.97244094, 0.97244094,\n",
       "        0.96062992, 0.98031496, 0.97637795, 0.96850394, 0.97637795,\n",
       "        0.97637795, 0.96850394, 0.97637795, 0.97637795, 0.96062992,\n",
       "        0.97244094, 0.98031496, 0.95669291, 0.96850394, 0.97637795,\n",
       "        0.96062992, 0.97244094, 0.98031496, 0.96456693, 0.97244094,\n",
       "        0.97637795, 0.96850394, 0.98031496, 0.98031496, 0.97244094,\n",
       "        0.98425197, 0.98425197, 0.96062992, 0.97244094, 0.97244094,\n",
       "        0.96062992, 0.98425197, 0.98425197, 0.96850394, 0.97244094,\n",
       "        0.97637795, 0.96850394, 0.97637795, 0.97637795, 0.97637795,\n",
       "        0.98031496, 0.98031496, 0.96456693, 0.98031496, 0.98031496,\n",
       "        0.96062992, 0.97637795, 0.97244094, 0.96850394, 0.95669291,\n",
       "        0.95669291, 0.96456693, 0.97637795, 0.97637795, 0.96062992,\n",
       "        0.97637795, 0.97637795, 0.95275591, 0.96850394, 0.97637795]),\n",
       " 'split3_test_score': array([0.96062992, 0.97244094, 0.97244094, 0.97244094, 0.96850394,\n",
       "        0.97637795, 0.96456693, 0.96062992, 0.97637795, 0.96062992,\n",
       "        0.95669291, 0.96850394, 0.97244094, 0.96850394, 0.96850394,\n",
       "        0.97244094, 0.97637795, 0.97637795, 0.96062992, 0.97637795,\n",
       "        0.98031496, 0.96456693, 0.98031496, 0.98031496, 0.95669291,\n",
       "        0.97637795, 0.98031496, 0.96850394, 0.97637795, 0.98031496,\n",
       "        0.97244094, 0.97637795, 0.97637795, 0.97244094, 0.98031496,\n",
       "        0.98031496, 0.96062992, 0.98031496, 0.98425197, 0.95669291,\n",
       "        0.98031496, 0.98031496, 0.96062992, 0.97637795, 0.98031496,\n",
       "        0.98031496, 0.97637795, 0.97637795, 0.97637795, 0.98425197,\n",
       "        0.98425197, 0.98031496, 0.98031496, 0.98425197, 0.97244094,\n",
       "        0.98031496, 0.98031496, 0.96456693, 0.98031496, 0.98425197,\n",
       "        0.98031496, 0.98031496, 0.97637795, 0.97637795, 0.98425197,\n",
       "        0.98425197, 0.98425197, 0.98818898, 0.98818898, 0.98031496,\n",
       "        0.98425197, 0.98425197, 0.97637795, 0.98425197, 0.98425197,\n",
       "        0.95669291, 0.97244094, 0.97637795, 0.97244094, 0.98031496,\n",
       "        0.98031496, 0.97244094, 0.98425197, 0.98425197, 0.97244094,\n",
       "        0.98425197, 0.98425197, 0.97244094, 0.98425197, 0.98425197,\n",
       "        0.96062992, 0.97637795, 0.97244094, 0.97244094, 0.97244094,\n",
       "        0.97637795, 0.96850394, 0.98031496, 0.98425197, 0.96850394,\n",
       "        0.98425197, 0.98425197, 0.97244094, 0.98425197, 0.98425197]),\n",
       " 'split4_test_score': array([0.96837945, 0.96837945, 0.96837945, 0.96837945, 0.96047431,\n",
       "        0.96837945, 0.96837945, 0.97628458, 0.97628458, 0.97233202,\n",
       "        0.97233202, 0.97628458, 0.98418972, 0.97233202, 0.97628458,\n",
       "        0.96837945, 0.96837945, 0.97233202, 0.96047431, 0.97628458,\n",
       "        0.98023715, 0.97233202, 0.97628458, 0.98023715, 0.97233202,\n",
       "        0.98023715, 0.98023715, 0.97233202, 0.98023715, 0.98023715,\n",
       "        0.96837945, 0.96837945, 0.97628458, 0.96837945, 0.97628458,\n",
       "        0.98023715, 0.97628458, 0.97628458, 0.98023715, 0.97233202,\n",
       "        0.98023715, 0.98023715, 0.97233202, 0.98023715, 0.98023715,\n",
       "        0.96837945, 0.97628458, 0.98023715, 0.96837945, 0.98023715,\n",
       "        0.97628458, 0.97628458, 0.98023715, 0.98023715, 0.97628458,\n",
       "        0.98023715, 0.98023715, 0.97628458, 0.98023715, 0.98023715,\n",
       "        0.96837945, 0.97628458, 0.98418972, 0.96837945, 0.98023715,\n",
       "        0.98023715, 0.97628458, 0.98023715, 0.98023715, 0.98023715,\n",
       "        0.98418972, 0.98023715, 0.97628458, 0.98023715, 0.98023715,\n",
       "        0.96837945, 0.98023715, 0.98418972, 0.97628458, 0.97628458,\n",
       "        0.98023715, 0.97233202, 0.98023715, 0.98023715, 0.96837945,\n",
       "        0.97628458, 0.98023715, 0.97628458, 0.98023715, 0.98418972,\n",
       "        0.97233202, 0.98023715, 0.98418972, 0.98023715, 0.98418972,\n",
       "        0.98023715, 0.97628458, 0.97233202, 0.98023715, 0.97233202,\n",
       "        0.98023715, 0.98023715, 0.98418972, 0.98023715, 0.98023715]),\n",
       " 'split5_test_score': array([0.96047431, 0.96047431, 0.96047431, 0.98023715, 0.96442688,\n",
       "        0.96837945, 0.96442688, 0.96837945, 0.96837945, 0.97628458,\n",
       "        0.96837945, 0.97233202, 0.98418972, 0.98418972, 0.98418972,\n",
       "        0.96047431, 0.96837945, 0.96837945, 0.96442688, 0.96837945,\n",
       "        0.96837945, 0.96837945, 0.97233202, 0.97628458, 0.96837945,\n",
       "        0.98023715, 0.98023715, 0.98418972, 0.98418972, 0.98418972,\n",
       "        0.96047431, 0.96837945, 0.96837945, 0.96442688, 0.96837945,\n",
       "        0.97628458, 0.96837945, 0.97628458, 0.98814229, 0.97628458,\n",
       "        0.98023715, 0.98418972, 0.98023715, 0.98023715, 0.98814229,\n",
       "        0.96442688, 0.96837945, 0.97628458, 0.96837945, 0.98023715,\n",
       "        0.99209486, 0.96837945, 0.99209486, 0.99209486, 0.97233202,\n",
       "        0.98814229, 0.99209486, 0.98023715, 0.98418972, 0.98814229,\n",
       "        0.96837945, 0.97628458, 0.98023715, 0.96442688, 0.97628458,\n",
       "        0.98814229, 0.96837945, 0.98814229, 0.98814229, 0.97628458,\n",
       "        0.99604743, 0.99604743, 0.98023715, 0.98814229, 0.98814229,\n",
       "        0.96837945, 0.97628458, 0.97628458, 0.96837945, 0.97628458,\n",
       "        0.99209486, 0.97233202, 0.98418972, 0.98814229, 0.97628458,\n",
       "        0.99209486, 0.99209486, 0.98023715, 0.99209486, 0.99604743,\n",
       "        0.97233202, 0.98023715, 0.98023715, 0.97233202, 0.98418972,\n",
       "        0.98814229, 0.98418972, 0.98814229, 0.98418972, 0.96442688,\n",
       "        0.98814229, 0.98814229, 0.96442688, 0.98418972, 0.99209486]),\n",
       " 'split6_test_score': array([0.92885375, 0.93675889, 0.93675889, 0.93675889, 0.94071146,\n",
       "        0.94071146, 0.96442688, 0.96442688, 0.96047431, 0.96442688,\n",
       "        0.96442688, 0.96442688, 0.97233202, 0.96837945, 0.96837945,\n",
       "        0.93675889, 0.94466403, 0.95652174, 0.93675889, 0.96047431,\n",
       "        0.96837945, 0.96047431, 0.96837945, 0.98023715, 0.96837945,\n",
       "        0.97628458, 0.98418972, 0.97233202, 0.97628458, 0.98023715,\n",
       "        0.93675889, 0.95256917, 0.96047431, 0.93675889, 0.96837945,\n",
       "        0.97233202, 0.96837945, 0.97233202, 0.98023715, 0.96837945,\n",
       "        0.98023715, 0.98023715, 0.97628458, 0.98023715, 0.98023715,\n",
       "        0.94071146, 0.96047431, 0.96442688, 0.94071146, 0.97628458,\n",
       "        0.98023715, 0.96047431, 0.98023715, 0.98023715, 0.96837945,\n",
       "        0.98418972, 0.98023715, 0.96442688, 0.98023715, 0.98023715,\n",
       "        0.94071146, 0.96442688, 0.97233202, 0.9486166 , 0.98814229,\n",
       "        0.98418972, 0.96442688, 0.97233202, 0.98023715, 0.96837945,\n",
       "        0.98023715, 0.98418972, 0.97628458, 0.98023715, 0.98418972,\n",
       "        0.94071146, 0.96837945, 0.96837945, 0.96442688, 0.98023715,\n",
       "        0.98023715, 0.96047431, 0.98023715, 0.98023715, 0.97628458,\n",
       "        0.98418972, 0.98418972, 0.96837945, 0.98418972, 0.98418972,\n",
       "        0.95652174, 0.96837945, 0.97233202, 0.96442688, 0.98023715,\n",
       "        0.98023715, 0.94466403, 0.98418972, 0.97628458, 0.97233202,\n",
       "        0.97628458, 0.98814229, 0.96837945, 0.98023715, 0.98023715]),\n",
       " 'split7_test_score': array([0.95256917, 0.95256917, 0.95256917, 0.95256917, 0.94466403,\n",
       "        0.95652174, 0.96442688, 0.96442688, 0.96442688, 0.97628458,\n",
       "        0.97233202, 0.97233202, 0.96837945, 0.97628458, 0.98023715,\n",
       "        0.95256917, 0.96837945, 0.97628458, 0.94466403, 0.97628458,\n",
       "        0.98023715, 0.96442688, 0.98023715, 0.98418972, 0.97233202,\n",
       "        0.97628458, 0.98023715, 0.97233202, 0.97233202, 0.98418972,\n",
       "        0.95256917, 0.97628458, 0.97628458, 0.9486166 , 0.98023715,\n",
       "        0.98023715, 0.96442688, 0.98023715, 0.98418972, 0.97628458,\n",
       "        0.98023715, 0.98023715, 0.96837945, 0.96837945, 0.98023715,\n",
       "        0.96047431, 0.97628458, 0.98023715, 0.95652174, 0.97628458,\n",
       "        0.97628458, 0.96837945, 0.98418972, 0.98814229, 0.97628458,\n",
       "        0.98418972, 0.98023715, 0.97628458, 0.98418972, 0.98023715,\n",
       "        0.95652174, 0.97233202, 0.98814229, 0.96442688, 0.98023715,\n",
       "        0.98814229, 0.97628458, 0.98418972, 0.98814229, 0.96442688,\n",
       "        0.98418972, 0.98418972, 0.97233202, 0.98418972, 0.99604743,\n",
       "        0.96047431, 0.97628458, 0.97233202, 0.97233202, 0.98418972,\n",
       "        0.98814229, 0.96442688, 0.98418972, 0.98814229, 0.97628458,\n",
       "        0.98418972, 0.98418972, 0.98023715, 0.98023715, 0.98418972,\n",
       "        0.95652174, 0.98023715, 0.97628458, 0.98023715, 0.98418972,\n",
       "        0.98814229, 0.96442688, 0.98418972, 0.99209486, 0.96442688,\n",
       "        0.97628458, 0.98814229, 0.96837945, 0.98814229, 0.97628458]),\n",
       " 'split8_test_score': array([0.9486166 , 0.9486166 , 0.9486166 , 0.9486166 , 0.95256917,\n",
       "        0.96047431, 0.93280632, 0.93675889, 0.94466403, 0.9486166 ,\n",
       "        0.95256917, 0.95256917, 0.96047431, 0.96047431, 0.95256917,\n",
       "        0.95256917, 0.96837945, 0.96837945, 0.95256917, 0.96442688,\n",
       "        0.96837945, 0.93675889, 0.95256917, 0.95652174, 0.96047431,\n",
       "        0.95652174, 0.96047431, 0.95652174, 0.95652174, 0.96047431,\n",
       "        0.9486166 , 0.97233202, 0.97233202, 0.95256917, 0.96047431,\n",
       "        0.96442688, 0.93675889, 0.95652174, 0.96047431, 0.95652174,\n",
       "        0.96047431, 0.95652174, 0.95652174, 0.96047431, 0.96047431,\n",
       "        0.9486166 , 0.97233202, 0.97233202, 0.96047431, 0.96047431,\n",
       "        0.96837945, 0.95256917, 0.95256917, 0.95256917, 0.95652174,\n",
       "        0.96442688, 0.96047431, 0.96047431, 0.96047431, 0.96442688,\n",
       "        0.96442688, 0.97233202, 0.97628458, 0.96837945, 0.96442688,\n",
       "        0.96837945, 0.95652174, 0.96442688, 0.96442688, 0.95652174,\n",
       "        0.96047431, 0.96442688, 0.95256917, 0.96047431, 0.96442688,\n",
       "        0.96047431, 0.97233202, 0.96837945, 0.95256917, 0.96442688,\n",
       "        0.96442688, 0.94466403, 0.95256917, 0.96442688, 0.94466403,\n",
       "        0.96047431, 0.96442688, 0.94466403, 0.96047431, 0.96442688,\n",
       "        0.96442688, 0.96837945, 0.96837945, 0.98023715, 0.96442688,\n",
       "        0.95652174, 0.9486166 , 0.95652174, 0.96047431, 0.9486166 ,\n",
       "        0.96837945, 0.96442688, 0.96047431, 0.96442688, 0.96442688]),\n",
       " 'split9_test_score': array([0.95256917, 0.95256917, 0.95256917, 0.95256917, 0.96047431,\n",
       "        0.96837945, 0.98023715, 0.98814229, 0.98814229, 0.96837945,\n",
       "        0.97628458, 0.98023715, 0.96837945, 0.97233202, 0.97233202,\n",
       "        0.95256917, 0.98023715, 0.98023715, 0.96047431, 0.98023715,\n",
       "        0.98814229, 0.98814229, 0.98814229, 0.98814229, 0.97628458,\n",
       "        0.98023715, 0.98023715, 0.97233202, 0.98023715, 0.98023715,\n",
       "        0.95256917, 0.98023715, 0.98814229, 0.96047431, 0.98814229,\n",
       "        0.98814229, 0.98418972, 0.98814229, 0.98814229, 0.97628458,\n",
       "        0.98023715, 0.98418972, 0.97233202, 0.97628458, 0.98023715,\n",
       "        0.96047431, 0.98814229, 0.98814229, 0.97233202, 0.98814229,\n",
       "        0.98814229, 0.98023715, 0.98418972, 0.98814229, 0.98023715,\n",
       "        0.98418972, 0.98418972, 0.97233202, 0.98418972, 0.98023715,\n",
       "        0.96837945, 0.98814229, 0.98814229, 0.97628458, 0.98814229,\n",
       "        0.98814229, 0.98814229, 0.98814229, 0.98814229, 0.98023715,\n",
       "        0.98023715, 0.97628458, 0.97233202, 0.98023715, 0.98023715,\n",
       "        0.97233202, 0.98814229, 0.98814229, 0.97628458, 0.98418972,\n",
       "        0.98418972, 0.98023715, 0.98418972, 0.98814229, 0.98418972,\n",
       "        0.98418972, 0.98814229, 0.97628458, 0.98023715, 0.98814229,\n",
       "        0.97233202, 0.98418972, 0.98814229, 0.98418972, 0.97628458,\n",
       "        0.98814229, 0.98023715, 0.98023715, 0.98814229, 0.97233202,\n",
       "        0.98023715, 0.98814229, 0.97233202, 0.97628458, 0.98023715]),\n",
       " 'mean_test_score': array([0.95342971, 0.95540133, 0.95540133, 0.95934611, 0.95815879,\n",
       "        0.96486726, 0.96369083, 0.96566867, 0.96881983, 0.96606548,\n",
       "        0.96606548, 0.96921976, 0.96883384, 0.96961968, 0.97040708,\n",
       "        0.95579658, 0.96803087, 0.97237092, 0.95540133, 0.97197877,\n",
       "        0.97632038, 0.96448445, 0.97473935, 0.97711245, 0.96685755,\n",
       "        0.97592512, 0.97829355, 0.96843702, 0.97553142, 0.9775077 ,\n",
       "        0.95579503, 0.97040086, 0.9743472 , 0.9581619 , 0.9735598 ,\n",
       "        0.97750459, 0.96606237, 0.97592512, 0.98026828, 0.96804177,\n",
       "        0.97789829, 0.97789985, 0.96804177, 0.97474246, 0.9779014 ,\n",
       "        0.96210358, 0.97552831, 0.97711089, 0.96526252, 0.97868569,\n",
       "        0.97987458, 0.97000249, 0.97790296, 0.97948088, 0.97079923,\n",
       "        0.97948243, 0.98026672, 0.96804332, 0.97790296, 0.97947776,\n",
       "        0.96447512, 0.97749992, 0.98027139, 0.96763406, 0.97987302,\n",
       "        0.9814556 , 0.97394883, 0.98066042, 0.98145249, 0.97276618,\n",
       "        0.98066353, 0.98145094, 0.97079923, 0.97869036, 0.98106035,\n",
       "        0.96250817, 0.97829199, 0.97750303, 0.97039775, 0.97671875,\n",
       "        0.98027139, 0.96802932, 0.97829355, 0.98105879, 0.97040397,\n",
       "        0.98026828, 0.98145405, 0.96843547, 0.98026672, 0.98263826,\n",
       "        0.96684822, 0.97750459, 0.9775077 , 0.97514239, 0.97593446,\n",
       "        0.97672497, 0.96684977, 0.97711245, 0.97908717, 0.96369861,\n",
       "        0.9782951 , 0.9818493 , 0.96921976, 0.97750926, 0.97947776]),\n",
       " 'std_test_score': array([0.0115635 , 0.01132164, 0.01132164, 0.01276172, 0.01065379,\n",
       "        0.00993862, 0.01284022, 0.01345297, 0.0121744 , 0.00984335,\n",
       "        0.00983586, 0.00946536, 0.01333852, 0.01141242, 0.01297736,\n",
       "        0.0111455 , 0.0094331 , 0.00685879, 0.01132164, 0.00672022,\n",
       "        0.00706811, 0.01390007, 0.01003073, 0.00963376, 0.00846314,\n",
       "        0.00907974, 0.00794562, 0.01180547, 0.00947255, 0.00846694,\n",
       "        0.01182758, 0.00755199, 0.00712706, 0.01252081, 0.00865599,\n",
       "        0.00729178, 0.01263674, 0.00891291, 0.00998094, 0.0100211 ,\n",
       "        0.00793586, 0.00850785, 0.01274547, 0.00919969, 0.00812521,\n",
       "        0.0110877 , 0.00825512, 0.00632077, 0.01014686, 0.00832691,\n",
       "        0.00889688, 0.00888073, 0.01076781, 0.01100084, 0.00867067,\n",
       "        0.0078442 , 0.00865405, 0.01017043, 0.00849428, 0.00785311,\n",
       "        0.01046829, 0.00848468, 0.00659171, 0.00845136, 0.00817477,\n",
       "        0.00748844, 0.00939141, 0.00890797, 0.01058681, 0.00856108,\n",
       "        0.00925196, 0.00829648, 0.01117492, 0.00850034, 0.00878737,\n",
       "        0.00939183, 0.00643445, 0.00771101, 0.00796192, 0.00972176,\n",
       "        0.00932991, 0.0106755 , 0.01003256, 0.00860647, 0.01250766,\n",
       "        0.00900379, 0.00828567, 0.01182677, 0.0082881 , 0.00831729,\n",
       "        0.00774156, 0.00728673, 0.00789246, 0.00727074, 0.00905172,\n",
       "        0.01161702, 0.01239701, 0.01040954, 0.00950986, 0.00928333,\n",
       "        0.00732411, 0.00793072, 0.0086006 , 0.0093314 , 0.00842883]),\n",
       " 'rank_test_score': array([105, 102, 102,  97,  99,  90,  94,  88,  73,  85,  85,  70,  72,\n",
       "         69,  64, 100,  79,  60, 104,  61,  47,  91,  55,  42,  82,  49,\n",
       "         28,  74,  51,  37, 101,  66,  56,  98,  58,  38,  87,  49,  13,\n",
       "         77,  34,  33,  77,  54,  32,  96,  52,  44,  89,  25,  17,  68,\n",
       "         30,  20,  62,  19,  15,  76,  31,  22,  92,  41,  11,  81,  18,\n",
       "          3,  57,  10,   5,  59,   9,   6,  62,  24,   7,  95,  29,  40,\n",
       "         67,  46,  11,  80,  27,   8,  65,  13,   4,  75,  15,   1,  84,\n",
       "         39,  36,  53,  48,  45,  83,  43,  23,  93,  26,   2,  70,  35,\n",
       "         21])}"
      ]
     },
     "execution_count": 32,
     "metadata": {},
     "output_type": "execute_result"
    }
   ],
   "source": [
    "from sklearn.model_selection import GridSearchCV\n",
    "gradient_boosting = GridSearchCV(gb,parameters,cv=10,return_train_score=False)\n",
    "gradient_boosting.fit(x_train,y_train)\n",
    "gradient_boosting.cv_results_"
   ]
  },
  {
   "cell_type": "code",
   "execution_count": 33,
   "metadata": {},
   "outputs": [
    {
     "data": {
      "text/plain": [
       "0.982638262114469"
      ]
     },
     "execution_count": 33,
     "metadata": {},
     "output_type": "execute_result"
    }
   ],
   "source": [
    "gradient_boosting.best_score_"
   ]
  },
  {
   "cell_type": "code",
   "execution_count": 34,
   "metadata": {},
   "outputs": [
    {
     "data": {
      "text/plain": [
       "{'learning_rate': 0.75, 'max_depth': 5, 'n_estimators': 100}"
      ]
     },
     "execution_count": 34,
     "metadata": {},
     "output_type": "execute_result"
    }
   ],
   "source": [
    "gradient_boosting.best_params_"
   ]
  },
  {
   "cell_type": "code",
   "execution_count": 28,
   "metadata": {},
   "outputs": [
    {
     "data": {
      "text/plain": [
       "GradientBoostingClassifier(learning_rate=0.75, max_depth=5)"
      ]
     },
     "execution_count": 28,
     "metadata": {},
     "output_type": "execute_result"
    }
   ],
   "source": [
    "model = GradientBoostingClassifier(n_estimators=100, learning_rate=0.75, max_depth=5)\n",
    "model.fit(x_train, y_train)"
   ]
  },
  {
   "cell_type": "code",
   "execution_count": 29,
   "metadata": {},
   "outputs": [
    {
     "name": "stdout",
     "output_type": "stream",
     "text": [
      "Accuracy on training set: 1.00000\n",
      "Accuracy on test set: 0.97476\n",
      "Out of total 634 samples 618 samples were predicted correctly\n"
     ]
    }
   ],
   "source": [
    "from sklearn import metrics \n",
    "print(\"Accuracy on training set: {:.5f}\".format(model.score(x_train, y_train)))\n",
    "print(\"Accuracy on test set: {:.5f}\".format(model.score(x_test, y_test)))\n",
    "predications = model.predict(x_test)\n",
    "print(\"Out of total 634 samples \"+str(metrics.accuracy_score(y_test, predications,normalize = False))+\" samples were predicted correctly\")"
   ]
  },
  {
   "cell_type": "markdown",
   "metadata": {},
   "source": [
    "# ROC Curve"
   ]
  },
  {
   "cell_type": "code",
   "execution_count": 15,
   "metadata": {},
   "outputs": [
    {
     "data": {
      "image/png": "[encoded data removed]",
      "text/plain": [
       "<Figure size 432x288 with 1 Axes>"
      ]
     },
     "metadata": {
      "needs_background": "light"
     },
     "output_type": "display_data"
    },
    {
     "name": "stdout",
     "output_type": "stream",
     "text": [
      "Area Under ROC Curve: 0.9746117084826763\n"
     ]
    }
   ],
   "source": [
    "from sklearn.metrics import roc_curve, auc\n",
    "fpr1, tpr1, thresholds = metrics.roc_curve(y_test, predications, pos_label=0)\n",
    "plt.ylabel(\"True Positive Rate\")\n",
    "plt.xlabel(\"False Positive Rate\")\n",
    "plt.title(\"ROC Curve\")\n",
    "plt.plot(tpr1,fpr1)\n",
    "plt.show()\n",
    "auc = np.trapz(fpr1,tpr1)\n",
    "print(\"Area Under ROC Curve:\", auc)"
   ]
  },
  {
   "cell_type": "markdown",
   "metadata": {},
   "source": [
    "# Recursive Feature Elimination"
   ]
  },
  {
   "cell_type": "code",
   "execution_count": 33,
   "metadata": {},
   "outputs": [],
   "source": [
    "from sklearn.feature_selection import RFE\n",
    "rfe = RFE(estimator = model,step=1)\n",
    "rfe.fit(x_train,y_train)\n",
    "x_train_selected = rfe.transform(x_train)\n",
    "x_test_selected = rfe.transform(x_test)\n"
   ]
  },
  {
   "cell_type": "code",
   "execution_count": 34,
   "metadata": {},
   "outputs": [
    {
     "data": {
      "text/html": [
       "<div>\n",
       "<style scoped>\n",
       "    .dataframe tbody tr th:only-of-type {\n",
       "        vertical-align: middle;\n",
       "    }\n",
       "\n",
       "    .dataframe tbody tr th {\n",
       "        vertical-align: top;\n",
       "    }\n",
       "\n",
       "    .dataframe thead th {\n",
       "        text-align: right;\n",
       "    }\n",
       "</style>\n",
       "<table border=\"1\" class=\"dataframe\">\n",
       "  <thead>\n",
       "    <tr style=\"text-align: right;\">\n",
       "      <th></th>\n",
       "      <th>Feature</th>\n",
       "      <th>Ranking</th>\n",
       "    </tr>\n",
       "  </thead>\n",
       "  <tbody>\n",
       "    <tr>\n",
       "      <th>9</th>\n",
       "      <td>sfm</td>\n",
       "      <td>1</td>\n",
       "    </tr>\n",
       "    <tr>\n",
       "      <th>1</th>\n",
       "      <td>sd</td>\n",
       "      <td>1</td>\n",
       "    </tr>\n",
       "    <tr>\n",
       "      <th>2</th>\n",
       "      <td>median</td>\n",
       "      <td>1</td>\n",
       "    </tr>\n",
       "    <tr>\n",
       "      <th>4</th>\n",
       "      <td>Q75</td>\n",
       "      <td>1</td>\n",
       "    </tr>\n",
       "    <tr>\n",
       "      <th>5</th>\n",
       "      <td>IQR</td>\n",
       "      <td>1</td>\n",
       "    </tr>\n",
       "    <tr>\n",
       "      <th>17</th>\n",
       "      <td>maxdom</td>\n",
       "      <td>1</td>\n",
       "    </tr>\n",
       "    <tr>\n",
       "      <th>13</th>\n",
       "      <td>minfun</td>\n",
       "      <td>1</td>\n",
       "    </tr>\n",
       "    <tr>\n",
       "      <th>8</th>\n",
       "      <td>sp.ent</td>\n",
       "      <td>1</td>\n",
       "    </tr>\n",
       "    <tr>\n",
       "      <th>18</th>\n",
       "      <td>dfrange</td>\n",
       "      <td>1</td>\n",
       "    </tr>\n",
       "    <tr>\n",
       "      <th>12</th>\n",
       "      <td>meanfun</td>\n",
       "      <td>1</td>\n",
       "    </tr>\n",
       "    <tr>\n",
       "      <th>10</th>\n",
       "      <td>mode</td>\n",
       "      <td>2</td>\n",
       "    </tr>\n",
       "    <tr>\n",
       "      <th>3</th>\n",
       "      <td>Q25</td>\n",
       "      <td>3</td>\n",
       "    </tr>\n",
       "    <tr>\n",
       "      <th>0</th>\n",
       "      <td>meanfreq</td>\n",
       "      <td>4</td>\n",
       "    </tr>\n",
       "    <tr>\n",
       "      <th>16</th>\n",
       "      <td>mindom</td>\n",
       "      <td>5</td>\n",
       "    </tr>\n",
       "    <tr>\n",
       "      <th>19</th>\n",
       "      <td>modindx</td>\n",
       "      <td>6</td>\n",
       "    </tr>\n",
       "    <tr>\n",
       "      <th>14</th>\n",
       "      <td>maxfun</td>\n",
       "      <td>7</td>\n",
       "    </tr>\n",
       "    <tr>\n",
       "      <th>6</th>\n",
       "      <td>skew</td>\n",
       "      <td>8</td>\n",
       "    </tr>\n",
       "    <tr>\n",
       "      <th>15</th>\n",
       "      <td>meandom</td>\n",
       "      <td>9</td>\n",
       "    </tr>\n",
       "    <tr>\n",
       "      <th>7</th>\n",
       "      <td>kurt</td>\n",
       "      <td>10</td>\n",
       "    </tr>\n",
       "    <tr>\n",
       "      <th>11</th>\n",
       "      <td>centroid</td>\n",
       "      <td>11</td>\n",
       "    </tr>\n",
       "  </tbody>\n",
       "</table>\n",
       "</div>"
      ],
      "text/plain": [
       "     Feature  Ranking\n",
       "9        sfm        1\n",
       "1         sd        1\n",
       "2     median        1\n",
       "4        Q75        1\n",
       "5        IQR        1\n",
       "17    maxdom        1\n",
       "13    minfun        1\n",
       "8     sp.ent        1\n",
       "18   dfrange        1\n",
       "12   meanfun        1\n",
       "10      mode        2\n",
       "3        Q25        3\n",
       "0   meanfreq        4\n",
       "16    mindom        5\n",
       "19   modindx        6\n",
       "14    maxfun        7\n",
       "6       skew        8\n",
       "15   meandom        9\n",
       "7       kurt       10\n",
       "11  centroid       11"
      ]
     },
     "execution_count": 34,
     "metadata": {},
     "output_type": "execute_result"
    }
   ],
   "source": [
    "selected_features = pd.DataFrame({'Feature':list(x_train.columns),\n",
    "                         'Ranking':rfe.ranking_})\n",
    "selected_features.sort_values(by = 'Ranking')"
   ]
  },
  {
   "cell_type": "code",
   "execution_count": 35,
   "metadata": {},
   "outputs": [
    {
     "name": "stdout",
     "output_type": "stream",
     "text": [
      "Scores : 0.9700315457413249\n",
      "Scores After Recursive Feature Elimination : 0.9747634069400631\n"
     ]
    }
   ],
   "source": [
    "model.fit(x_train,y_train)\n",
    "print(\"Scores :\",format(model.score(x_test,y_test)))\n",
    "model.fit(x_train_selected,y_train)\n",
    "print(\"Scores After Recursive Feature Elimination :\",format(model.score(x_test_selected,y_test)))\n"
   ]
  },
  {
   "cell_type": "code",
   "execution_count": null,
   "metadata": {},
   "outputs": [],
   "source": []
  }
 ],
 "metadata": {
  "kernelspec": {
   "display_name": "Python 3",
   "language": "python",
   "name": "python3"
  },
  "language_info": {
   "codemirror_mode": {
    "name": "ipython",
    "version": 3
   },
   "file_extension": ".py",
   "mimetype": "text/x-python",
   "name": "python",
   "nbconvert_exporter": "python",
   "pygments_lexer": "ipython3",
   "version": "3.8.3"
  }
 },
 "nbformat": 4,
 "nbformat_minor": 5
}
